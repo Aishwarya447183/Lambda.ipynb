{
 "cells": [
  {
   "cell_type": "code",
   "execution_count": 3,
   "id": "2bd3e5aa-c4d6-4add-b726-7b0d76fe97ff",
   "metadata": {},
   "outputs": [],
   "source": [
    "##Q1.\n",
    "#Ans.\n",
    "sort_tuples=[('Sachin Tendulkar', 34357), ('Ricky Ponting', 27483), ('Jack Kallis', 25534), ('Virat Kohli', 24936)]"
   ]
  },
  {
   "cell_type": "code",
   "execution_count": 4,
   "id": "3a9d7546-308a-42a7-993e-b8b0efced531",
   "metadata": {},
   "outputs": [
    {
     "name": "stdout",
     "output_type": "stream",
     "text": [
      "[('Virat Kohli', 24936), ('Jack Kallis', 25534), ('Ricky Ponting', 27483), ('Sachin Tendulkar', 34357)]\n"
     ]
    }
   ],
   "source": [
    "sort_tuples.sort(key=lambda X:X[1])\n",
    "print(sort_tuples)"
   ]
  },
  {
   "cell_type": "code",
   "execution_count": 5,
   "id": "ba600ec1-dba7-439c-8b1a-3f6c32bc5c7e",
   "metadata": {},
   "outputs": [],
   "source": [
    "##Q2.\n",
    "#Ans\n",
    "l=[1, 2, 3, 4, 5, 6, 7, 8, 9, 10]"
   ]
  },
  {
   "cell_type": "code",
   "execution_count": 6,
   "id": "56e3462f-a27e-4a27-b201-676658f077c3",
   "metadata": {},
   "outputs": [
    {
     "data": {
      "text/plain": [
       "[1, 4, 9, 16, 25, 36, 49, 64, 81, 100]"
      ]
     },
     "execution_count": 6,
     "metadata": {},
     "output_type": "execute_result"
    }
   ],
   "source": [
    "list(map(lambda X :X**2,l))"
   ]
  },
  {
   "cell_type": "code",
   "execution_count": 8,
   "id": "44284c17-ff8d-424c-8c0f-40a8f26bd743",
   "metadata": {},
   "outputs": [],
   "source": [
    "##Q3.\n",
    "#Ans.\n",
    "l= [1, 2, 3, 4, 5, 6, 7, 8, 9, 10]"
   ]
  },
  {
   "cell_type": "code",
   "execution_count": 9,
   "id": "16533849-5833-475a-9550-db5489a8ae99",
   "metadata": {},
   "outputs": [
    {
     "data": {
      "text/plain": [
       "('1', '2', '3', '4', '5', '6', '7', '8', '9', '10')"
      ]
     },
     "execution_count": 9,
     "metadata": {},
     "output_type": "execute_result"
    }
   ],
   "source": [
    "tuple(map(lambda x:str(x),l))"
   ]
  },
  {
   "cell_type": "code",
   "execution_count": 10,
   "id": "76df99e7-fdcb-4b39-a0f6-fe4b7e8255dd",
   "metadata": {},
   "outputs": [],
   "source": [
    "##Q4.\n",
    "#Ans.\n",
    "from functools import reduce"
   ]
  },
  {
   "cell_type": "code",
   "execution_count": 11,
   "id": "06c0fa26-ab49-4c90-a758-a87678581acc",
   "metadata": {},
   "outputs": [],
   "source": [
    "l=[1,2,3,4,5,6,7,8,9,10,11,12,13,14,15,16,17,18,19,20,21,22,23,24,25]"
   ]
  },
  {
   "cell_type": "code",
   "execution_count": 12,
   "id": "67e8af78-e974-4820-9a51-a691f8127236",
   "metadata": {},
   "outputs": [
    {
     "data": {
      "text/plain": [
       "325"
      ]
     },
     "execution_count": 12,
     "metadata": {},
     "output_type": "execute_result"
    }
   ],
   "source": [
    "reduce(lambda x,y:x+y,l)"
   ]
  },
  {
   "cell_type": "code",
   "execution_count": 13,
   "id": "a700248c-bee5-402c-adda-24bcff1d1cd2",
   "metadata": {},
   "outputs": [],
   "source": [
    "##Q5.\n",
    "#Ans.\n",
    "l=[2, 3, 6, 9, 27, 60, 90, 120, 55, 46]"
   ]
  },
  {
   "cell_type": "code",
   "execution_count": 14,
   "id": "b6789488-78f6-4f17-8e02-d5d53d9c2e6f",
   "metadata": {},
   "outputs": [
    {
     "data": {
      "text/plain": [
       "[6, 60, 90, 120]"
      ]
     },
     "execution_count": 14,
     "metadata": {},
     "output_type": "execute_result"
    }
   ],
   "source": [
    "list(filter(lambda x: (x % 2==0) and(x % 3==0),l))"
   ]
  },
  {
   "cell_type": "code",
   "execution_count": 15,
   "id": "2639ef49-e3ef-49b8-b70a-b9c31431d111",
   "metadata": {},
   "outputs": [],
   "source": [
    "##Q6.\n",
    "#Ans.\n",
    "l=['python', 'php', 'aba', 'radar', 'level']"
   ]
  },
  {
   "cell_type": "code",
   "execution_count": 16,
   "id": "7d3809d5-4a66-4ff5-8d5c-4f62409a4bca",
   "metadata": {},
   "outputs": [
    {
     "data": {
      "text/plain": [
       "['php', 'aba', 'radar', 'level']"
      ]
     },
     "execution_count": 16,
     "metadata": {},
     "output_type": "execute_result"
    }
   ],
   "source": [
    "list(filter(lambda X:(X==\"\".join(reversed(X))),l))"
   ]
  }
 ],
 "metadata": {
  "kernelspec": {
   "display_name": "Python 3 (ipykernel)",
   "language": "python",
   "name": "python3"
  },
  "language_info": {
   "codemirror_mode": {
    "name": "ipython",
    "version": 3
   },
   "file_extension": ".py",
   "mimetype": "text/x-python",
   "name": "python",
   "nbconvert_exporter": "python",
   "pygments_lexer": "ipython3",
   "version": "3.10.8"
  }
 },
 "nbformat": 4,
 "nbformat_minor": 5
}
